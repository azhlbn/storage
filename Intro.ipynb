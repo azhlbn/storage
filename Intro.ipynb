{
  "metadata": {
    "kernelspec": {
      "name": "python",
      "display_name": "Python (Pyodide)",
      "language": "python"
    },
    "language_info": {
      "codemirror_mode": {
        "name": "python",
        "version": 3
      },
      "file_extension": ".py",
      "mimetype": "text/x-python",
      "name": "python",
      "nbconvert_exporter": "python",
      "pygments_lexer": "ipython3",
      "version": "3.8"
    }
  },
  "nbformat_minor": 5,
  "nbformat": 4,
  "cells": [
    {
      "id": "fe55883a-6887-43dd-9498-5333a51799e2",
      "cell_type": "code",
      "source": "%pip install ipywidgets",
      "metadata": {
        "trusted": true
      },
      "outputs": [],
      "execution_count": 2
    },
    {
      "id": "296d6257-a4ab-4c41-8c42-5f76aeb3f741",
      "cell_type": "code",
      "source": "import numpy as np\nfrom ipywidgets import interact, FloatText, Layout\nimport pandas as pd\n\n# Функция для вычисления наград\ndef compute_shards_rewards(lock_size_1, lock_size_2, lock_size_3, lock_size_4, lock_size_5, total_tokens):\n    base_shards = 100  # Фиксированное значение S\n    \n    # Проверка корректности параметров\n    if total_tokens <= 0:\n        return None, None, \"Invalid parameters: Total Tokens must be > 0\"\n    \n    # Размеры локов\n    lock_sizes = [lock_size_1, lock_size_2, lock_size_3, lock_size_4, lock_size_5]\n    if any(lock_size < 0 for lock_size in lock_sizes):\n        return None, None, \"Invalid parameters: Lock sizes must be non-negative\"\n    \n    # Проверка, что сумма локов не превышает total_tokens\n    total_locked_tokens = sum(lock_sizes)\n    if total_locked_tokens > total_tokens:\n        return None, None, f\"Invalid parameters: Total locked tokens ({total_locked_tokens}) cannot exceed total supply ({total_tokens})\"\n    \n    if total_locked_tokens == 0:\n        return None, None, \"Invalid parameters: Total Locked Tokens must be > 0\"\n    \n    # Вычисление L и max(l_i)\n    max_lock_size = max(lock_sizes)\n    \n    # Вычисление наград для каждого пользователя\n    decentralization_factor = 1 - max_lock_size / total_locked_tokens\n    rewards = []\n    \n    for lock_size in lock_sizes:\n        reward = (base_shards * \n                  (lock_size / total_tokens) * \n                  np.sqrt(total_locked_tokens / total_tokens) * \n                  decentralization_factor)\n        rewards.append(reward)\n    \n    # Общая сумма наград\n    total_rewards = sum(rewards)\n    \n    # Формирование результата\n    result_df = pd.DataFrame({\n        'User': [f'User {i+1}' for i in range(5)],\n        'Lock Size': lock_sizes,\n        'Shards Reward': rewards\n    })\n    result_df.loc['Total'] = ['Total', total_locked_tokens, total_rewards]\n    \n    return result_df, total_rewards, None\n\n# Функция для отображения результатов\ndef display_shards_rewards(lock_size_1, lock_size_2, lock_size_3, lock_size_4, lock_size_5, total_tokens):\n    result_df, total_rewards, error = compute_shards_rewards(\n        lock_size_1, lock_size_2, lock_size_3, lock_size_4, lock_size_5, total_tokens\n    )\n    \n    if error:\n        print(error)\n        return\n    \n    print(\"Results:\")\n    print(result_df)\n\n# Создание интерактивного интерфейса\ninteract(\n    display_shards_rewards,\n    lock_size_1=FloatText(value=100, description='LockUser1:', layout=Layout(width='400px')),\n    lock_size_2=FloatText(value=100, description='LockUser2:', layout=Layout(width='400px')),\n    lock_size_3=FloatText(value=100, description='LockUser3:', layout=Layout(width='400px')),\n    lock_size_4=FloatText(value=100, description='LockUser4:', layout=Layout(width='400px')),\n    lock_size_5=FloatText(value=100, description='LockUser5:', layout=Layout(width='400px')),\n    total_tokens=FloatText(value=1000, description='totalSupply:', layout=Layout(width='400px'))\n)",
      "metadata": {
        "trusted": true
      },
      "outputs": [
        {
          "output_type": "display_data",
          "data": {
            "text/plain": "interactive(children=(FloatText(value=100.0, description='LockUser1:', layout=Layout(width='400px')), FloatTex…",
            "application/vnd.jupyter.widget-view+json": {
              "version_major": 2,
              "version_minor": 0,
              "model_id": "4d6dc6ea33b249c7bf78884bf6e4ea22"
            }
          },
          "metadata": {}
        },
        {
          "execution_count": 4,
          "output_type": "execute_result",
          "data": {
            "text/plain": "<function __main__.display_shards_rewards(lock_size_1, lock_size_2, lock_size_3, lock_size_4, lock_size_5, total_tokens)>"
          },
          "metadata": {}
        }
      ],
      "execution_count": 4
    },
    {
      "id": "31489009-4412-4550-910e-9a346640fae4",
      "cell_type": "code",
      "source": "",
      "metadata": {
        "trusted": true
      },
      "outputs": [],
      "execution_count": null
    }
  ]
}